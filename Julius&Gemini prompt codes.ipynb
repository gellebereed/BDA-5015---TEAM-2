{
  "metadata": {
    "kernelspec": {
      "name": "python",
      "display_name": "Python (Pyodide)",
      "language": "python"
    },
    "language_info": {
      "codemirror_mode": {
        "name": "python",
        "version": 3
      },
      "file_extension": ".py",
      "mimetype": "text/x-python",
      "name": "python",
      "nbconvert_exporter": "python",
      "pygments_lexer": "ipython3",
      "version": "3.8"
    }
  },
  "nbformat_minor": 5,
  "nbformat": 4,
  "cells": [
    {
      "id": "56901c8f-d861-47fd-ab99-d108663d72ee",
      "cell_type": "code",
      "source": "Gemini - prompt 1 \n\nimport pandas as pd\nimport matplotlib.pyplot as plt\n\nsuperstore_data = pd.read_csv('Sample - Superstore(in).csv', encoding='latin1')\n\n# Ensure Order Date is datetime\nsuperstore_data['Order Date'] = pd.to_datetime(superstore_data['Order Date'])\n\n# Filter data for the years 2014 to 2018\nsuperstore_data_filtered = superstore_data[(superstore_data['Order Date'].dt.year >= 2014) & (superstore_data['Order Date'].dt.year <= 2018)].copy()\n\n# Aggregate sales by month\nmonthly_sales = superstore_data_filtered.resample('M', on='Order Date')['Sales'].sum().reset_index()\n\n# Plot\nplt.figure(figsize=(12, 6))\nplt.plot(monthly_sales['Order Date'], monthly_sales['Sales'], marker='o')\nplt.title('Monthly Sales Trend Over Time (2014-2018)')\nplt.xlabel('Date')\nplt.ylabel('Total Sales')\nplt.grid(True)\nplt.tight_layout()\nplt.show()\n",
      "metadata": {
        "trusted": true
      },
      "outputs": [],
      "execution_count": null
    },
    {
      "id": "4720288d-8bea-4eef-a7b0-a14f4f435268",
      "cell_type": "code",
      "source": "Gemini- prompt 2 \n\nimport pandas as pd\nimport matplotlib.pyplot as plt\nimport seaborn as sns\n\n# Load the dataset\nsuperstore_data = pd.read_csv('Sample - Superstore(in).csv', encoding='latin1')\n\n# Ensure 'Profit;' is numeric, coercing errors to NaN\nsuperstore_data['Profit;'] = pd.to_numeric(superstore_data['Profit;'], errors='coerce')\n\n# Drop rows where 'Profit;' is NaN after conversion\nsuperstore_data.dropna(subset=['Profit;'], inplace=True)\n\n# Create a bar chart of total profit by region\nplt.figure(figsize=(10, 6))\nsns.barplot(x='Region', y='Profit;', data=superstore_data, estimator=sum)\nplt.title('Total Profit by Region')\nplt.xlabel('Region')\nplt.ylabel('Total Profit')\nplt.xticks(rotation=45)\nplt.tight_layout()\nplt.show()\n\n\n\n",
      "metadata": {
        "trusted": true
      },
      "outputs": [],
      "execution_count": null
    },
    {
      "id": "27b476f7-1e8f-43f5-a5ee-c1e4432b667c",
      "cell_type": "code",
      "source": "gemini - prompt 3 \n\nimport pandas as pd\nimport matplotlib.pyplot as plt\nimport seaborn as sns\n\n# Load the dataset\nsuperstore_data = pd.read_csv('Sample - Superstore(in).csv', encoding='latin1')\n\n# Clean the 'Profit;' column to ensure it's numeric\nsuperstore_data['Profit;'] = pd.to_numeric(superstore_data['Profit;'], errors='coerce')\n\n# Drop rows where 'Profit;' is NaN after conversion\nsuperstore_data.dropna(subset=['Profit;'], inplace=True)\n\n# Create a scatter plot to see the relationship between Discount and Profit\nplt.figure(figsize=(10, 6))\nsns.scatterplot(x='Discount', y='Profit;', data=superstore_data)\nplt.title('Impact of Discount on Profit')\nplt.xlabel('Discount')\nplt.ylabel('Profit')\nplt.grid(True)\nplt.tight_layout()\nplt.show()\n\n# Calculate the average profit for different discount levels\naverage_profit_by_discount = superstore_data.groupby('Discount')['Profit;'].mean().reset_index()\n\nplt.figure(figsize=(10, 6))\nsns.barplot(x='Discount', y='Profit;', data=average_profit_by_discount)\nplt.title('Average Profit by Discount Level')\nplt.xlabel('Discount')\nplt.ylabel('Average Profit')\nplt.xticks(rotation=45)\nplt.tight_layout()\nplt.show()\n\n",
      "metadata": {
        "trusted": true
      },
      "outputs": [],
      "execution_count": null
    },
    {
      "id": "eb864eca-12b8-4307-ae2c-e6c2f91cc73a",
      "cell_type": "code",
      "source": "Julius - prompt 1 \n\n# Convert Order Date to datetime and create the visualization\ndf['Order Date'] = pd.to_datetime(df['Order Date'])\n\n# Create monthly sales data\nmonthly_sales = df.groupby(df['Order Date'].dt.to_period('M')).agg({'Sales': 'sum'}).reset_index()\nmonthly_sales['Order Date'] = monthly_sales['Order Date'].astype(str)\nmonthly_sales['Order Date'] = pd.to_datetime(monthly_sales['Order Date'])\n\n# Create the line plot\nplt.figure(figsize=(12, 6))\nsns.lineplot(data=monthly_sales, x='Order Date', y='Sales', linewidth=2)\n\n# Customize the plot\nplt.title('Monthly Total Sales (2015-2018)', fontsize=14, pad=15)\nplt.xlabel('Date', fontsize=12)\nplt.ylabel('Total Sales ($)', fontsize=12)\nplt.grid(True, linestyle='--', alpha=0.7)\nplt.xticks(rotation=45)\n\n# Format y-axis to show currency in thousands\ncurrent_values = plt.gca().get_yticks()\nplt.gca().set_yticklabels(['${:,.0f}'.format(x) for x in current_values])\n\nplt.tight_layout()\nplt.show()\n\n\n",
      "metadata": {
        "trusted": true
      },
      "outputs": [],
      "execution_count": null
    },
    {
      "id": "2a183112-0e05-4dec-89a3-9ae1a645392d",
      "cell_type": "code",
      "source": "julius - prompt 2 \n\nimport pandas as pd\nimport matplotlib.pyplot as plt\nimport seaborn as sns\n\n# Load and clean the data\ndf = pd.read_csv('Sample - Superstore(in).csv', encoding='latin1')\ndf['Profit'] = df['Profit;'].str.split(';').str[0].astype(float)\n\n# Calculate profit by region\nregion_profit = df.groupby('Region')['Profit'].sum().reset_index()\n\n# Create bar plot\nplt.figure(figsize=(10, 6))\nsns.barplot(x='Region', y='Profit', data=region_profit, palette='viridis')\nplt.title('Total Profit by Region')\nplt.xlabel('Region')\nplt.ylabel('Total Profit ($)')\nplt.xticks(rotation=0)\nplt.tight_layout()\nplt.show()\n\nprint(\"Total Profit by Region:\")\nprint(region_profit)",
      "metadata": {
        "trusted": true
      },
      "outputs": [],
      "execution_count": null
    },
    {
      "id": "8c2b7f7b-36c5-4ff1-bdea-92910f1b5b68",
      "cell_type": "code",
      "source": "julius - prompt 3\n\n\n# Load and clean the data\ndf = pd.read_csv('Sample - Superstore(in).csv', encoding='latin1')\ndf.columns = [col.strip() for col in df.columns]  # Remove any whitespace\ndf['Profit'] = df['Profit;'].str.replace(';', '').astype(float)\ndf['Discount'] = df['Discount'].astype(float)\n\n# Create scatter plot\nplt.figure(figsize=(10, 6))\nsns.regplot(data=df, x='Discount', y='Profit', scatter_kws={'alpha':0.5}, line_kws={'color':'red'})\nplt.title('Impact of Discounts on Profit')\nplt.xlabel('Discount Rate')\nplt.ylabel('Profit ($)')\nplt.grid(True)\nplt.show()\n\n# Calculate correlation\ncorrelation = df['Discount'].corr(df['Profit'])\nprint('Correlation between Discount and Profit:', round(correlation, 3))\n\n# Calculate average profit for different discount ranges\ndf['Discount_Range'] = pd.cut(df['Discount'], bins=[0, 0.2, 0.4, 0.6, 0.8, 1.0], labels=['0-20%', '20-40%', '40-60%', '60-80%', '80-100%'])\navg_profit_by_discount = df.groupby('Discount_Range')['Profit'].mean()\nprint('\\\nAverage Profit by Discount Range:')\nprint(avg_profit_by_discount)\n\n\n\n",
      "metadata": {
        "trusted": true
      },
      "outputs": [],
      "execution_count": null
    },
    {
      "id": "eb44bb41-3c5f-419c-beeb-92b49323061e",
      "cell_type": "code",
      "source": "",
      "metadata": {
        "trusted": true
      },
      "outputs": [],
      "execution_count": null
    }
  ]
}